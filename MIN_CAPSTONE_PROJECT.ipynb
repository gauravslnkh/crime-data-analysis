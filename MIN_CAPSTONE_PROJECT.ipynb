{
 "cells": [
  {
   "cell_type": "markdown",
   "id": "223c8e9e-3085-4828-ad0d-262337f59e35",
   "metadata": {},
   "source": [
    "# CRIME DATA ANALYSIS WITH PYTHON AND MYSQL "
   ]
  },
  {
   "cell_type": "code",
   "execution_count": 1,
   "id": "e4e89950-c81b-4a2b-bb10-54fbd054f0c7",
   "metadata": {},
   "outputs": [],
   "source": [
    "import pymysql\n",
    "import numpy as np\n",
    "import pandas as pd\n",
    "import matplotlib.pyplot as plt\n",
    "import seaborn as sns"
   ]
  },
  {
   "cell_type": "markdown",
   "id": "45a1e0ef-e8a9-4232-b540-8565922eb339",
   "metadata": {},
   "source": [
    "#### CONNECT TO MYSQL "
   ]
  },
  {
   "cell_type": "code",
   "execution_count": 2,
   "id": "7876659c-6056-47ec-88de-c85d6168cfdc",
   "metadata": {},
   "outputs": [],
   "source": [
    "connection = pymysql.connect(host='localhost', \n",
    "        user='root', \n",
    "        password='12345678', \n",
    "        database='crime_data')                       #This code establishes a connection to a MySQL database hosted on the local machine."
   ]
  },
  {
   "cell_type": "code",
   "execution_count": 3,
   "id": "93e84aaa-5169-4884-842e-bedccb0e2f8d",
   "metadata": {},
   "outputs": [
    {
     "name": "stderr",
     "output_type": "stream",
     "text": [
      "C:\\Users\\HP\\AppData\\Local\\Temp\\ipykernel_1988\\4158246026.py:1: UserWarning: pandas only supports SQLAlchemy connectable (engine/connection) or database string URI or sqlite3 DBAPI2 connection. Other DBAPI2 objects are not tested. Please consider using SQLAlchemy.\n",
      "  df=pd.read_sql_query(\"\"\" Select * from crime_data \"\"\",connection)    #This line executes the SQL query (SELECT * FROM crime_data)\n"
     ]
    }
   ],
   "source": [
    "df=pd.read_sql_query(\"\"\" Select * from crime_data \"\"\",connection)    #This line executes the SQL query (SELECT * FROM crime_data)\n",
    "                                                                                    #on the connected database and reads the result into a pandas DataFrame (df)"
   ]
  },
  {
   "cell_type": "markdown",
   "id": "9a7c6d08-4112-435e-81ce-a4970464ca32",
   "metadata": {},
   "source": [
    "#### TO DISPLAY DATA SET OF CRIME_DATA "
   ]
  },
  {
   "cell_type": "code",
   "execution_count": 4,
   "id": "ef374a7f-e1c4-47ed-858b-971f11a4eb33",
   "metadata": {},
   "outputs": [
    {
     "data": {
      "text/html": [
       "<div>\n",
       "<style scoped>\n",
       "    .dataframe tbody tr th:only-of-type {\n",
       "        vertical-align: middle;\n",
       "    }\n",
       "\n",
       "    .dataframe tbody tr th {\n",
       "        vertical-align: top;\n",
       "    }\n",
       "\n",
       "    .dataframe thead th {\n",
       "        text-align: right;\n",
       "    }\n",
       "</style>\n",
       "<table border=\"1\" class=\"dataframe\">\n",
       "  <thead>\n",
       "    <tr style=\"text-align: right;\">\n",
       "      <th></th>\n",
       "      <th>DR_NO</th>\n",
       "      <th>Date_Rptd</th>\n",
       "      <th>DATE_OCC</th>\n",
       "      <th>AREA_NAME</th>\n",
       "      <th>Crm_Cd</th>\n",
       "      <th>Crm_Cd_Desc</th>\n",
       "      <th>Vict_Age</th>\n",
       "      <th>Vict_Sex</th>\n",
       "      <th>Premis_Desc</th>\n",
       "      <th>Status</th>\n",
       "      <th>Location</th>\n",
       "      <th>LAT</th>\n",
       "      <th>LON</th>\n",
       "    </tr>\n",
       "  </thead>\n",
       "  <tbody>\n",
       "    <tr>\n",
       "      <th>0</th>\n",
       "      <td>10304468</td>\n",
       "      <td>01-08-2020</td>\n",
       "      <td>01-08-2020</td>\n",
       "      <td>Southwest</td>\n",
       "      <td>624</td>\n",
       "      <td>BATTERY - SIMPLE ASSAULT</td>\n",
       "      <td>36</td>\n",
       "      <td>F</td>\n",
       "      <td>SINGLE FAMILY DWELLING</td>\n",
       "      <td>AO</td>\n",
       "      <td>1100 W 39TH PL</td>\n",
       "      <td>34.01</td>\n",
       "      <td>-118.30</td>\n",
       "    </tr>\n",
       "    <tr>\n",
       "      <th>1</th>\n",
       "      <td>190101086</td>\n",
       "      <td>01-02-2020</td>\n",
       "      <td>01-01-2020</td>\n",
       "      <td>Central</td>\n",
       "      <td>624</td>\n",
       "      <td>BATTERY - SIMPLE ASSAULT</td>\n",
       "      <td>25</td>\n",
       "      <td>M</td>\n",
       "      <td>SIDEWALK</td>\n",
       "      <td>IC</td>\n",
       "      <td>700 S HILL ST</td>\n",
       "      <td>34.05</td>\n",
       "      <td>-118.25</td>\n",
       "    </tr>\n",
       "    <tr>\n",
       "      <th>2</th>\n",
       "      <td>191501505</td>\n",
       "      <td>01-01-2020</td>\n",
       "      <td>01-01-2020</td>\n",
       "      <td>N Hollywood</td>\n",
       "      <td>745</td>\n",
       "      <td>VANDALISM - MISDEAMEANOR ($399 OR UNDER)</td>\n",
       "      <td>76</td>\n",
       "      <td>F</td>\n",
       "      <td>MULTI-UNIT DWELLING (APARTMENT, DUPLEX, ETC)</td>\n",
       "      <td>IC</td>\n",
       "      <td>5400 CORTEEN PL</td>\n",
       "      <td>34.17</td>\n",
       "      <td>-118.40</td>\n",
       "    </tr>\n",
       "    <tr>\n",
       "      <th>3</th>\n",
       "      <td>191921269</td>\n",
       "      <td>01-01-2020</td>\n",
       "      <td>01-01-2020</td>\n",
       "      <td>Mission</td>\n",
       "      <td>740</td>\n",
       "      <td>VANDALISM - FELONY ($400 &amp; OVER, ALL CHURCH VA...</td>\n",
       "      <td>31</td>\n",
       "      <td>X</td>\n",
       "      <td>BEAUTY SUPPLY STORE</td>\n",
       "      <td>IC</td>\n",
       "      <td>14400 TITUS ST</td>\n",
       "      <td>34.22</td>\n",
       "      <td>-118.45</td>\n",
       "    </tr>\n",
       "    <tr>\n",
       "      <th>4</th>\n",
       "      <td>200100502</td>\n",
       "      <td>01-02-2020</td>\n",
       "      <td>01-02-2020</td>\n",
       "      <td>Central</td>\n",
       "      <td>442</td>\n",
       "      <td>SHOPLIFTING - PETTY THEFT ($950 &amp; UNDER)</td>\n",
       "      <td>23</td>\n",
       "      <td>M</td>\n",
       "      <td>DEPARTMENT STORE</td>\n",
       "      <td>IC</td>\n",
       "      <td>700 S FIGUEROA ST</td>\n",
       "      <td>34.05</td>\n",
       "      <td>-118.26</td>\n",
       "    </tr>\n",
       "    <tr>\n",
       "      <th>...</th>\n",
       "      <td>...</td>\n",
       "      <td>...</td>\n",
       "      <td>...</td>\n",
       "      <td>...</td>\n",
       "      <td>...</td>\n",
       "      <td>...</td>\n",
       "      <td>...</td>\n",
       "      <td>...</td>\n",
       "      <td>...</td>\n",
       "      <td>...</td>\n",
       "      <td>...</td>\n",
       "      <td>...</td>\n",
       "      <td>...</td>\n",
       "    </tr>\n",
       "    <tr>\n",
       "      <th>494</th>\n",
       "      <td>200106614</td>\n",
       "      <td>02-07-2020</td>\n",
       "      <td>02-07-2020</td>\n",
       "      <td>Central</td>\n",
       "      <td>624</td>\n",
       "      <td>BATTERY - SIMPLE ASSAULT</td>\n",
       "      <td>33</td>\n",
       "      <td>M</td>\n",
       "      <td>SIDEWALK</td>\n",
       "      <td>IC</td>\n",
       "      <td>2400 ELLENDALE PL</td>\n",
       "      <td>34.05</td>\n",
       "      <td>-118.26</td>\n",
       "    </tr>\n",
       "    <tr>\n",
       "      <th>495</th>\n",
       "      <td>200106615</td>\n",
       "      <td>02-07-2020</td>\n",
       "      <td>02-07-2020</td>\n",
       "      <td>Central</td>\n",
       "      <td>624</td>\n",
       "      <td>BATTERY - SIMPLE ASSAULT</td>\n",
       "      <td>25</td>\n",
       "      <td>M</td>\n",
       "      <td>SIDEWALK</td>\n",
       "      <td>IC</td>\n",
       "      <td>39TH PL</td>\n",
       "      <td>34.05</td>\n",
       "      <td>-118.26</td>\n",
       "    </tr>\n",
       "    <tr>\n",
       "      <th>496</th>\n",
       "      <td>200106616</td>\n",
       "      <td>02-07-2020</td>\n",
       "      <td>02-07-2020</td>\n",
       "      <td>Central</td>\n",
       "      <td>624</td>\n",
       "      <td>BATTERY - SIMPLE ASSAULT</td>\n",
       "      <td>35</td>\n",
       "      <td>M</td>\n",
       "      <td>OTHER STORE</td>\n",
       "      <td>IC</td>\n",
       "      <td>2500 W VERNON AV</td>\n",
       "      <td>34.05</td>\n",
       "      <td>-118.25</td>\n",
       "    </tr>\n",
       "    <tr>\n",
       "      <th>497</th>\n",
       "      <td>200106617</td>\n",
       "      <td>02-07-2020</td>\n",
       "      <td>01-10-2020</td>\n",
       "      <td>Central</td>\n",
       "      <td>510</td>\n",
       "      <td>VEHICLE - STOLEN</td>\n",
       "      <td>0</td>\n",
       "      <td>F</td>\n",
       "      <td>PARKING LOT</td>\n",
       "      <td>IC</td>\n",
       "      <td>700 EXPOSITION BL</td>\n",
       "      <td>34.05</td>\n",
       "      <td>-118.25</td>\n",
       "    </tr>\n",
       "    <tr>\n",
       "      <th>498</th>\n",
       "      <td>200106618</td>\n",
       "      <td>02-07-2020</td>\n",
       "      <td>02-03-2020</td>\n",
       "      <td>Central</td>\n",
       "      <td>745</td>\n",
       "      <td>VANDALISM - MISDEAMEANOR ($399 OR UNDER)</td>\n",
       "      <td>72</td>\n",
       "      <td>M</td>\n",
       "      <td>VEHICLE, PASSENGER/TRUCK</td>\n",
       "      <td>IC</td>\n",
       "      <td>2600 S FIGUEROA ST</td>\n",
       "      <td>34.05</td>\n",
       "      <td>-118.24</td>\n",
       "    </tr>\n",
       "  </tbody>\n",
       "</table>\n",
       "<p>499 rows × 13 columns</p>\n",
       "</div>"
      ],
      "text/plain": [
       "         DR_NO   Date_Rptd    DATE_OCC    AREA_NAME  Crm_Cd  \\\n",
       "0     10304468  01-08-2020  01-08-2020    Southwest     624   \n",
       "1    190101086  01-02-2020  01-01-2020      Central     624   \n",
       "2    191501505  01-01-2020  01-01-2020  N Hollywood     745   \n",
       "3    191921269  01-01-2020  01-01-2020      Mission     740   \n",
       "4    200100502  01-02-2020  01-02-2020      Central     442   \n",
       "..         ...         ...         ...          ...     ...   \n",
       "494  200106614  02-07-2020  02-07-2020      Central     624   \n",
       "495  200106615  02-07-2020  02-07-2020      Central     624   \n",
       "496  200106616  02-07-2020  02-07-2020      Central     624   \n",
       "497  200106617  02-07-2020  01-10-2020      Central     510   \n",
       "498  200106618  02-07-2020  02-03-2020      Central     745   \n",
       "\n",
       "                                           Crm_Cd_Desc  Vict_Age Vict_Sex  \\\n",
       "0                             BATTERY - SIMPLE ASSAULT        36        F   \n",
       "1                             BATTERY - SIMPLE ASSAULT        25        M   \n",
       "2             VANDALISM - MISDEAMEANOR ($399 OR UNDER)        76        F   \n",
       "3    VANDALISM - FELONY ($400 & OVER, ALL CHURCH VA...        31        X   \n",
       "4             SHOPLIFTING - PETTY THEFT ($950 & UNDER)        23        M   \n",
       "..                                                 ...       ...      ...   \n",
       "494                           BATTERY - SIMPLE ASSAULT        33        M   \n",
       "495                           BATTERY - SIMPLE ASSAULT        25        M   \n",
       "496                           BATTERY - SIMPLE ASSAULT        35        M   \n",
       "497                                   VEHICLE - STOLEN         0        F   \n",
       "498           VANDALISM - MISDEAMEANOR ($399 OR UNDER)        72        M   \n",
       "\n",
       "                                      Premis_Desc Status            Location  \\\n",
       "0                          SINGLE FAMILY DWELLING     AO      1100 W 39TH PL   \n",
       "1                                        SIDEWALK     IC       700 S HILL ST   \n",
       "2    MULTI-UNIT DWELLING (APARTMENT, DUPLEX, ETC)     IC     5400 CORTEEN PL   \n",
       "3                             BEAUTY SUPPLY STORE     IC      14400 TITUS ST   \n",
       "4                                DEPARTMENT STORE     IC   700 S FIGUEROA ST   \n",
       "..                                            ...    ...                 ...   \n",
       "494                                      SIDEWALK     IC   2400 ELLENDALE PL   \n",
       "495                                      SIDEWALK     IC             39TH PL   \n",
       "496                                   OTHER STORE     IC    2500 W VERNON AV   \n",
       "497                                   PARKING LOT     IC   700 EXPOSITION BL   \n",
       "498                      VEHICLE, PASSENGER/TRUCK     IC  2600 S FIGUEROA ST   \n",
       "\n",
       "       LAT     LON  \n",
       "0    34.01 -118.30  \n",
       "1    34.05 -118.25  \n",
       "2    34.17 -118.40  \n",
       "3    34.22 -118.45  \n",
       "4    34.05 -118.26  \n",
       "..     ...     ...  \n",
       "494  34.05 -118.26  \n",
       "495  34.05 -118.26  \n",
       "496  34.05 -118.25  \n",
       "497  34.05 -118.25  \n",
       "498  34.05 -118.24  \n",
       "\n",
       "[499 rows x 13 columns]"
      ]
     },
     "execution_count": 4,
     "metadata": {},
     "output_type": "execute_result"
    }
   ],
   "source": [
    "df"
   ]
  },
  {
   "cell_type": "code",
   "execution_count": 5,
   "id": "63c2ec02-c685-4bda-8114-39d108c149a8",
   "metadata": {},
   "outputs": [
    {
     "data": {
      "text/plain": [
       "Index(['DR_NO', 'Date_Rptd', 'DATE_OCC', 'AREA_NAME', 'Crm_Cd', 'Crm_Cd_Desc',\n",
       "       'Vict_Age', 'Vict_Sex', 'Premis_Desc', 'Status', 'Location', 'LAT',\n",
       "       'LON'],\n",
       "      dtype='object')"
      ]
     },
     "execution_count": 5,
     "metadata": {},
     "output_type": "execute_result"
    }
   ],
   "source": [
    "df.columns            #it will retrive all the clm name"
   ]
  },
  {
   "cell_type": "markdown",
   "id": "eae3b8cc-db93-4a17-aff0-d16eb7b3707d",
   "metadata": {},
   "source": [
    "##### GETING INFORMATION LIKE TOTAL NO OF ROWS , COLUMNS AND MEMORY REQUIRED"
   ]
  },
  {
   "cell_type": "code",
   "execution_count": 6,
   "id": "606b3e50-fe11-463b-97c6-687c93edbee2",
   "metadata": {},
   "outputs": [
    {
     "name": "stdout",
     "output_type": "stream",
     "text": [
      "<class 'pandas.core.frame.DataFrame'>\n",
      "RangeIndex: 499 entries, 0 to 498\n",
      "Data columns (total 13 columns):\n",
      " #   Column       Non-Null Count  Dtype  \n",
      "---  ------       --------------  -----  \n",
      " 0   DR_NO        499 non-null    int64  \n",
      " 1   Date_Rptd    499 non-null    object \n",
      " 2   DATE_OCC     499 non-null    object \n",
      " 3   AREA_NAME    499 non-null    object \n",
      " 4   Crm_Cd       499 non-null    int64  \n",
      " 5   Crm_Cd_Desc  499 non-null    object \n",
      " 6   Vict_Age     499 non-null    int64  \n",
      " 7   Vict_Sex     499 non-null    object \n",
      " 8   Premis_Desc  499 non-null    object \n",
      " 9   Status       499 non-null    object \n",
      " 10  Location     499 non-null    object \n",
      " 11  LAT          499 non-null    float64\n",
      " 12  LON          499 non-null    float64\n",
      "dtypes: float64(2), int64(3), object(8)\n",
      "memory usage: 50.8+ KB\n"
     ]
    }
   ],
   "source": [
    "df.info()      #TO summarize the datafram "
   ]
  },
  {
   "cell_type": "markdown",
   "id": "bdc505da-b470-4c50-a7b9-9f8347e9f977",
   "metadata": {},
   "source": [
    "##### GETING OVERALL STATISTIC ABOUT THE  DATAFRAME LIKE MIN MAX AVG ..... OF (NUMERICAL COLUMNS)"
   ]
  },
  {
   "cell_type": "code",
   "execution_count": 7,
   "id": "47907e83-b376-484e-b579-c98dab3dd8fb",
   "metadata": {},
   "outputs": [
    {
     "data": {
      "text/html": [
       "<div>\n",
       "<style scoped>\n",
       "    .dataframe tbody tr th:only-of-type {\n",
       "        vertical-align: middle;\n",
       "    }\n",
       "\n",
       "    .dataframe tbody tr th {\n",
       "        vertical-align: top;\n",
       "    }\n",
       "\n",
       "    .dataframe thead th {\n",
       "        text-align: right;\n",
       "    }\n",
       "</style>\n",
       "<table border=\"1\" class=\"dataframe\">\n",
       "  <thead>\n",
       "    <tr style=\"text-align: right;\">\n",
       "      <th></th>\n",
       "      <th>DR_NO</th>\n",
       "      <th>Crm_Cd</th>\n",
       "      <th>Vict_Age</th>\n",
       "      <th>LAT</th>\n",
       "      <th>LON</th>\n",
       "    </tr>\n",
       "  </thead>\n",
       "  <tbody>\n",
       "    <tr>\n",
       "      <th>count</th>\n",
       "      <td>4.990000e+02</td>\n",
       "      <td>499.000000</td>\n",
       "      <td>499.000000</td>\n",
       "      <td>499.000000</td>\n",
       "      <td>499.000000</td>\n",
       "    </tr>\n",
       "    <tr>\n",
       "      <th>mean</th>\n",
       "      <td>1.999930e+08</td>\n",
       "      <td>504.178357</td>\n",
       "      <td>32.142285</td>\n",
       "      <td>34.047335</td>\n",
       "      <td>-118.261283</td>\n",
       "    </tr>\n",
       "    <tr>\n",
       "      <th>std</th>\n",
       "      <td>8.742243e+06</td>\n",
       "      <td>198.381863</td>\n",
       "      <td>20.202136</td>\n",
       "      <td>0.053840</td>\n",
       "      <td>0.041560</td>\n",
       "    </tr>\n",
       "    <tr>\n",
       "      <th>min</th>\n",
       "      <td>1.030447e+07</td>\n",
       "      <td>210.000000</td>\n",
       "      <td>0.000000</td>\n",
       "      <td>33.710000</td>\n",
       "      <td>-118.560000</td>\n",
       "    </tr>\n",
       "    <tr>\n",
       "      <th>25%</th>\n",
       "      <td>2.001044e+08</td>\n",
       "      <td>330.000000</td>\n",
       "      <td>23.000000</td>\n",
       "      <td>34.040000</td>\n",
       "      <td>-118.260000</td>\n",
       "    </tr>\n",
       "    <tr>\n",
       "      <th>50%</th>\n",
       "      <td>2.001048e+08</td>\n",
       "      <td>442.000000</td>\n",
       "      <td>31.000000</td>\n",
       "      <td>34.050000</td>\n",
       "      <td>-118.250000</td>\n",
       "    </tr>\n",
       "    <tr>\n",
       "      <th>75%</th>\n",
       "      <td>2.001064e+08</td>\n",
       "      <td>624.000000</td>\n",
       "      <td>46.500000</td>\n",
       "      <td>34.050000</td>\n",
       "      <td>-118.240000</td>\n",
       "    </tr>\n",
       "    <tr>\n",
       "      <th>max</th>\n",
       "      <td>2.220130e+08</td>\n",
       "      <td>956.000000</td>\n",
       "      <td>78.000000</td>\n",
       "      <td>34.280000</td>\n",
       "      <td>-118.190000</td>\n",
       "    </tr>\n",
       "  </tbody>\n",
       "</table>\n",
       "</div>"
      ],
      "text/plain": [
       "              DR_NO      Crm_Cd    Vict_Age         LAT         LON\n",
       "count  4.990000e+02  499.000000  499.000000  499.000000  499.000000\n",
       "mean   1.999930e+08  504.178357   32.142285   34.047335 -118.261283\n",
       "std    8.742243e+06  198.381863   20.202136    0.053840    0.041560\n",
       "min    1.030447e+07  210.000000    0.000000   33.710000 -118.560000\n",
       "25%    2.001044e+08  330.000000   23.000000   34.040000 -118.260000\n",
       "50%    2.001048e+08  442.000000   31.000000   34.050000 -118.250000\n",
       "75%    2.001064e+08  624.000000   46.500000   34.050000 -118.240000\n",
       "max    2.220130e+08  956.000000   78.000000   34.280000 -118.190000"
      ]
     },
     "execution_count": 7,
     "metadata": {},
     "output_type": "execute_result"
    }
   ],
   "source": [
    "df.describe()  #descriptive analysis of numerical clm "
   ]
  },
  {
   "cell_type": "markdown",
   "id": "12c1c566-096c-42e3-bfa3-da5f1cc9f153",
   "metadata": {},
   "source": [
    "##### GETING OVERALL STATISTIC ABOUT THE  DATAFRAME LIKE MIN MAX AVG ..... (i.e OF NUMERICAL COLUMNS as well as the non numerical columns)"
   ]
  },
  {
   "cell_type": "code",
   "execution_count": 8,
   "id": "008fac95-d155-4df3-8bbb-39912399186f",
   "metadata": {},
   "outputs": [
    {
     "data": {
      "text/html": [
       "<div>\n",
       "<style scoped>\n",
       "    .dataframe tbody tr th:only-of-type {\n",
       "        vertical-align: middle;\n",
       "    }\n",
       "\n",
       "    .dataframe tbody tr th {\n",
       "        vertical-align: top;\n",
       "    }\n",
       "\n",
       "    .dataframe thead th {\n",
       "        text-align: right;\n",
       "    }\n",
       "</style>\n",
       "<table border=\"1\" class=\"dataframe\">\n",
       "  <thead>\n",
       "    <tr style=\"text-align: right;\">\n",
       "      <th></th>\n",
       "      <th>DR_NO</th>\n",
       "      <th>Date_Rptd</th>\n",
       "      <th>DATE_OCC</th>\n",
       "      <th>AREA_NAME</th>\n",
       "      <th>Crm_Cd</th>\n",
       "      <th>Crm_Cd_Desc</th>\n",
       "      <th>Vict_Age</th>\n",
       "      <th>Vict_Sex</th>\n",
       "      <th>Premis_Desc</th>\n",
       "      <th>Status</th>\n",
       "      <th>Location</th>\n",
       "      <th>LAT</th>\n",
       "      <th>LON</th>\n",
       "    </tr>\n",
       "  </thead>\n",
       "  <tbody>\n",
       "    <tr>\n",
       "      <th>count</th>\n",
       "      <td>4.990000e+02</td>\n",
       "      <td>499</td>\n",
       "      <td>499</td>\n",
       "      <td>499</td>\n",
       "      <td>499.000000</td>\n",
       "      <td>499</td>\n",
       "      <td>499.000000</td>\n",
       "      <td>499</td>\n",
       "      <td>499</td>\n",
       "      <td>499</td>\n",
       "      <td>499</td>\n",
       "      <td>499.000000</td>\n",
       "      <td>499.000000</td>\n",
       "    </tr>\n",
       "    <tr>\n",
       "      <th>unique</th>\n",
       "      <td>NaN</td>\n",
       "      <td>68</td>\n",
       "      <td>61</td>\n",
       "      <td>19</td>\n",
       "      <td>NaN</td>\n",
       "      <td>42</td>\n",
       "      <td>NaN</td>\n",
       "      <td>4</td>\n",
       "      <td>67</td>\n",
       "      <td>4</td>\n",
       "      <td>365</td>\n",
       "      <td>NaN</td>\n",
       "      <td>NaN</td>\n",
       "    </tr>\n",
       "    <tr>\n",
       "      <th>top</th>\n",
       "      <td>NaN</td>\n",
       "      <td>01-11-2020</td>\n",
       "      <td>01-11-2020</td>\n",
       "      <td>Central</td>\n",
       "      <td>NaN</td>\n",
       "      <td>BURGLARY FROM VEHICLE</td>\n",
       "      <td>NaN</td>\n",
       "      <td>M</td>\n",
       "      <td>STREET</td>\n",
       "      <td>IC</td>\n",
       "      <td>800 N ALAMEDA ST</td>\n",
       "      <td>NaN</td>\n",
       "      <td>NaN</td>\n",
       "    </tr>\n",
       "    <tr>\n",
       "      <th>freq</th>\n",
       "      <td>NaN</td>\n",
       "      <td>42</td>\n",
       "      <td>38</td>\n",
       "      <td>423</td>\n",
       "      <td>NaN</td>\n",
       "      <td>82</td>\n",
       "      <td>NaN</td>\n",
       "      <td>278</td>\n",
       "      <td>105</td>\n",
       "      <td>447</td>\n",
       "      <td>14</td>\n",
       "      <td>NaN</td>\n",
       "      <td>NaN</td>\n",
       "    </tr>\n",
       "    <tr>\n",
       "      <th>mean</th>\n",
       "      <td>1.999930e+08</td>\n",
       "      <td>NaN</td>\n",
       "      <td>NaN</td>\n",
       "      <td>NaN</td>\n",
       "      <td>504.178357</td>\n",
       "      <td>NaN</td>\n",
       "      <td>32.142285</td>\n",
       "      <td>NaN</td>\n",
       "      <td>NaN</td>\n",
       "      <td>NaN</td>\n",
       "      <td>NaN</td>\n",
       "      <td>34.047335</td>\n",
       "      <td>-118.261283</td>\n",
       "    </tr>\n",
       "    <tr>\n",
       "      <th>std</th>\n",
       "      <td>8.742243e+06</td>\n",
       "      <td>NaN</td>\n",
       "      <td>NaN</td>\n",
       "      <td>NaN</td>\n",
       "      <td>198.381863</td>\n",
       "      <td>NaN</td>\n",
       "      <td>20.202136</td>\n",
       "      <td>NaN</td>\n",
       "      <td>NaN</td>\n",
       "      <td>NaN</td>\n",
       "      <td>NaN</td>\n",
       "      <td>0.053840</td>\n",
       "      <td>0.041560</td>\n",
       "    </tr>\n",
       "    <tr>\n",
       "      <th>min</th>\n",
       "      <td>1.030447e+07</td>\n",
       "      <td>NaN</td>\n",
       "      <td>NaN</td>\n",
       "      <td>NaN</td>\n",
       "      <td>210.000000</td>\n",
       "      <td>NaN</td>\n",
       "      <td>0.000000</td>\n",
       "      <td>NaN</td>\n",
       "      <td>NaN</td>\n",
       "      <td>NaN</td>\n",
       "      <td>NaN</td>\n",
       "      <td>33.710000</td>\n",
       "      <td>-118.560000</td>\n",
       "    </tr>\n",
       "    <tr>\n",
       "      <th>25%</th>\n",
       "      <td>2.001044e+08</td>\n",
       "      <td>NaN</td>\n",
       "      <td>NaN</td>\n",
       "      <td>NaN</td>\n",
       "      <td>330.000000</td>\n",
       "      <td>NaN</td>\n",
       "      <td>23.000000</td>\n",
       "      <td>NaN</td>\n",
       "      <td>NaN</td>\n",
       "      <td>NaN</td>\n",
       "      <td>NaN</td>\n",
       "      <td>34.040000</td>\n",
       "      <td>-118.260000</td>\n",
       "    </tr>\n",
       "    <tr>\n",
       "      <th>50%</th>\n",
       "      <td>2.001048e+08</td>\n",
       "      <td>NaN</td>\n",
       "      <td>NaN</td>\n",
       "      <td>NaN</td>\n",
       "      <td>442.000000</td>\n",
       "      <td>NaN</td>\n",
       "      <td>31.000000</td>\n",
       "      <td>NaN</td>\n",
       "      <td>NaN</td>\n",
       "      <td>NaN</td>\n",
       "      <td>NaN</td>\n",
       "      <td>34.050000</td>\n",
       "      <td>-118.250000</td>\n",
       "    </tr>\n",
       "    <tr>\n",
       "      <th>75%</th>\n",
       "      <td>2.001064e+08</td>\n",
       "      <td>NaN</td>\n",
       "      <td>NaN</td>\n",
       "      <td>NaN</td>\n",
       "      <td>624.000000</td>\n",
       "      <td>NaN</td>\n",
       "      <td>46.500000</td>\n",
       "      <td>NaN</td>\n",
       "      <td>NaN</td>\n",
       "      <td>NaN</td>\n",
       "      <td>NaN</td>\n",
       "      <td>34.050000</td>\n",
       "      <td>-118.240000</td>\n",
       "    </tr>\n",
       "    <tr>\n",
       "      <th>max</th>\n",
       "      <td>2.220130e+08</td>\n",
       "      <td>NaN</td>\n",
       "      <td>NaN</td>\n",
       "      <td>NaN</td>\n",
       "      <td>956.000000</td>\n",
       "      <td>NaN</td>\n",
       "      <td>78.000000</td>\n",
       "      <td>NaN</td>\n",
       "      <td>NaN</td>\n",
       "      <td>NaN</td>\n",
       "      <td>NaN</td>\n",
       "      <td>34.280000</td>\n",
       "      <td>-118.190000</td>\n",
       "    </tr>\n",
       "  </tbody>\n",
       "</table>\n",
       "</div>"
      ],
      "text/plain": [
       "               DR_NO   Date_Rptd    DATE_OCC AREA_NAME      Crm_Cd  \\\n",
       "count   4.990000e+02         499         499       499  499.000000   \n",
       "unique           NaN          68          61        19         NaN   \n",
       "top              NaN  01-11-2020  01-11-2020   Central         NaN   \n",
       "freq             NaN          42          38       423         NaN   \n",
       "mean    1.999930e+08         NaN         NaN       NaN  504.178357   \n",
       "std     8.742243e+06         NaN         NaN       NaN  198.381863   \n",
       "min     1.030447e+07         NaN         NaN       NaN  210.000000   \n",
       "25%     2.001044e+08         NaN         NaN       NaN  330.000000   \n",
       "50%     2.001048e+08         NaN         NaN       NaN  442.000000   \n",
       "75%     2.001064e+08         NaN         NaN       NaN  624.000000   \n",
       "max     2.220130e+08         NaN         NaN       NaN  956.000000   \n",
       "\n",
       "                  Crm_Cd_Desc    Vict_Age Vict_Sex Premis_Desc Status  \\\n",
       "count                     499  499.000000      499         499    499   \n",
       "unique                     42         NaN        4          67      4   \n",
       "top     BURGLARY FROM VEHICLE         NaN        M      STREET     IC   \n",
       "freq                       82         NaN      278         105    447   \n",
       "mean                      NaN   32.142285      NaN         NaN    NaN   \n",
       "std                       NaN   20.202136      NaN         NaN    NaN   \n",
       "min                       NaN    0.000000      NaN         NaN    NaN   \n",
       "25%                       NaN   23.000000      NaN         NaN    NaN   \n",
       "50%                       NaN   31.000000      NaN         NaN    NaN   \n",
       "75%                       NaN   46.500000      NaN         NaN    NaN   \n",
       "max                       NaN   78.000000      NaN         NaN    NaN   \n",
       "\n",
       "                Location         LAT         LON  \n",
       "count                499  499.000000  499.000000  \n",
       "unique               365         NaN         NaN  \n",
       "top     800 N ALAMEDA ST         NaN         NaN  \n",
       "freq                  14         NaN         NaN  \n",
       "mean                 NaN   34.047335 -118.261283  \n",
       "std                  NaN    0.053840    0.041560  \n",
       "min                  NaN   33.710000 -118.560000  \n",
       "25%                  NaN   34.040000 -118.260000  \n",
       "50%                  NaN   34.050000 -118.250000  \n",
       "75%                  NaN   34.050000 -118.240000  \n",
       "max                  NaN   34.280000 -118.190000  "
      ]
     },
     "execution_count": 8,
     "metadata": {},
     "output_type": "execute_result"
    }
   ],
   "source": [
    "df.describe(include='all')"
   ]
  },
  {
   "cell_type": "markdown",
   "id": "344aa2f1-2f4c-4cae-b7a0-6a1dbbee9bd0",
   "metadata": {},
   "source": [
    "##### WHAT IS SHAPE OF DATASET"
   ]
  },
  {
   "cell_type": "code",
   "execution_count": 9,
   "id": "97300ae7-2bc6-454a-9aab-41f48e088f38",
   "metadata": {},
   "outputs": [
    {
     "data": {
      "text/plain": [
       "(499, 13)"
      ]
     },
     "execution_count": 9,
     "metadata": {},
     "output_type": "execute_result"
    }
   ],
   "source": [
    "df.shape   "
   ]
  },
  {
   "cell_type": "markdown",
   "id": "6ef0029b-33ff-474f-a977-f4bb05973cc3",
   "metadata": {},
   "source": [
    "##### check for null value"
   ]
  },
  {
   "cell_type": "code",
   "execution_count": 10,
   "id": "41cebbf9-3768-4db0-801b-61b0132411d5",
   "metadata": {},
   "outputs": [
    {
     "data": {
      "text/plain": [
       "DR_NO          0\n",
       "Date_Rptd      0\n",
       "DATE_OCC       0\n",
       "AREA_NAME      0\n",
       "Crm_Cd         0\n",
       "Crm_Cd_Desc    0\n",
       "Vict_Age       0\n",
       "Vict_Sex       0\n",
       "Premis_Desc    0\n",
       "Status         0\n",
       "Location       0\n",
       "LAT            0\n",
       "LON            0\n",
       "dtype: int64"
      ]
     },
     "execution_count": 10,
     "metadata": {},
     "output_type": "execute_result"
    }
   ],
   "source": [
    "df.isnull().sum()\n"
   ]
  },
  {
   "cell_type": "markdown",
   "id": "48a8739a-0432-475a-96e3-78921b3a8aee",
   "metadata": {},
   "source": [
    "# QUESTIONS TO SOLVE:"
   ]
  },
  {
   "cell_type": "markdown",
   "id": "cbdbecb7-72be-4b43-91b1-5bd1e4c98ba4",
   "metadata": {},
   "source": [
    "# Spatial Analysis"
   ]
  },
  {
   "cell_type": "code",
   "execution_count": null,
   "id": "22e3ab1d-9187-4848-af30-61fa1e4cdd4e",
   "metadata": {},
   "outputs": [],
   "source": [
    "#SPATIAL ANALYSIS MAIN FOCUS TO ANALAYSIS geographic patterns, relationships, and trends"
   ]
  },
  {
   "cell_type": "markdown",
   "id": "fe4d9229-b717-4a8f-9b7a-dc272c77ac89",
   "metadata": {},
   "source": [
    "### Q1)Where are the geographical hotspots for reported crimes? "
   ]
  },
  {
   "cell_type": "code",
   "execution_count": 11,
   "id": "eb27934b-094f-43fe-8075-525b2f9abea8",
   "metadata": {},
   "outputs": [
    {
     "data": {
      "text/plain": [
       "Index(['DR_NO', 'Date_Rptd', 'DATE_OCC', 'AREA_NAME', 'Crm_Cd', 'Crm_Cd_Desc',\n",
       "       'Vict_Age', 'Vict_Sex', 'Premis_Desc', 'Status', 'Location', 'LAT',\n",
       "       'LON'],\n",
       "      dtype='object')"
      ]
     },
     "execution_count": 11,
     "metadata": {},
     "output_type": "execute_result"
    }
   ],
   "source": [
    "df.columns"
   ]
  },
  {
   "cell_type": "code",
   "execution_count": 12,
   "id": "7577df9f-6a25-44b6-a1c2-95597d1c62c0",
   "metadata": {},
   "outputs": [
    {
     "name": "stderr",
     "output_type": "stream",
     "text": [
      "C:\\Users\\HP\\AppData\\Local\\Temp\\ipykernel_1988\\3336947620.py:1: UserWarning: pandas only supports SQLAlchemy connectable (engine/connection) or database string URI or sqlite3 DBAPI2 connection. Other DBAPI2 objects are not tested. Please consider using SQLAlchemy.\n",
      "  df1=pd.read_sql_query(\"\"\" select LAT , LON ,count(*)as no_of_crime from Crime_data GROUP BY LAT,LON ORDER BY no_of_crime desc  \"\"\",connection)\n"
     ]
    }
   ],
   "source": [
    "df1=pd.read_sql_query(\"\"\" select LAT , LON ,count(*)as no_of_crime from Crime_data GROUP BY LAT,LON ORDER BY no_of_crime desc  \"\"\",connection)"
   ]
  },
  {
   "cell_type": "code",
   "execution_count": 13,
   "id": "ed3b0a61-b5d5-4bac-83a6-d5a36f47c9ee",
   "metadata": {},
   "outputs": [
    {
     "data": {
      "text/html": [
       "<div>\n",
       "<style scoped>\n",
       "    .dataframe tbody tr th:only-of-type {\n",
       "        vertical-align: middle;\n",
       "    }\n",
       "\n",
       "    .dataframe tbody tr th {\n",
       "        vertical-align: top;\n",
       "    }\n",
       "\n",
       "    .dataframe thead th {\n",
       "        text-align: right;\n",
       "    }\n",
       "</style>\n",
       "<table border=\"1\" class=\"dataframe\">\n",
       "  <thead>\n",
       "    <tr style=\"text-align: right;\">\n",
       "      <th></th>\n",
       "      <th>LAT</th>\n",
       "      <th>LON</th>\n",
       "      <th>no_of_crime</th>\n",
       "    </tr>\n",
       "  </thead>\n",
       "  <tbody>\n",
       "    <tr>\n",
       "      <th>0</th>\n",
       "      <td>34.05</td>\n",
       "      <td>-118.26</td>\n",
       "      <td>95</td>\n",
       "    </tr>\n",
       "    <tr>\n",
       "      <th>1</th>\n",
       "      <td>34.05</td>\n",
       "      <td>-118.25</td>\n",
       "      <td>75</td>\n",
       "    </tr>\n",
       "    <tr>\n",
       "      <th>2</th>\n",
       "      <td>34.04</td>\n",
       "      <td>-118.25</td>\n",
       "      <td>47</td>\n",
       "    </tr>\n",
       "    <tr>\n",
       "      <th>3</th>\n",
       "      <td>34.06</td>\n",
       "      <td>-118.24</td>\n",
       "      <td>43</td>\n",
       "    </tr>\n",
       "    <tr>\n",
       "      <th>4</th>\n",
       "      <td>34.05</td>\n",
       "      <td>-118.24</td>\n",
       "      <td>39</td>\n",
       "    </tr>\n",
       "    <tr>\n",
       "      <th>...</th>\n",
       "      <td>...</td>\n",
       "      <td>...</td>\n",
       "      <td>...</td>\n",
       "    </tr>\n",
       "    <tr>\n",
       "      <th>76</th>\n",
       "      <td>34.07</td>\n",
       "      <td>-118.37</td>\n",
       "      <td>1</td>\n",
       "    </tr>\n",
       "    <tr>\n",
       "      <th>77</th>\n",
       "      <td>34.11</td>\n",
       "      <td>-118.24</td>\n",
       "      <td>1</td>\n",
       "    </tr>\n",
       "    <tr>\n",
       "      <th>78</th>\n",
       "      <td>34.08</td>\n",
       "      <td>-118.35</td>\n",
       "      <td>1</td>\n",
       "    </tr>\n",
       "    <tr>\n",
       "      <th>79</th>\n",
       "      <td>34.10</td>\n",
       "      <td>-118.30</td>\n",
       "      <td>1</td>\n",
       "    </tr>\n",
       "    <tr>\n",
       "      <th>80</th>\n",
       "      <td>34.14</td>\n",
       "      <td>-118.23</td>\n",
       "      <td>1</td>\n",
       "    </tr>\n",
       "  </tbody>\n",
       "</table>\n",
       "<p>81 rows × 3 columns</p>\n",
       "</div>"
      ],
      "text/plain": [
       "      LAT     LON  no_of_crime\n",
       "0   34.05 -118.26           95\n",
       "1   34.05 -118.25           75\n",
       "2   34.04 -118.25           47\n",
       "3   34.06 -118.24           43\n",
       "4   34.05 -118.24           39\n",
       "..    ...     ...          ...\n",
       "76  34.07 -118.37            1\n",
       "77  34.11 -118.24            1\n",
       "78  34.08 -118.35            1\n",
       "79  34.10 -118.30            1\n",
       "80  34.14 -118.23            1\n",
       "\n",
       "[81 rows x 3 columns]"
      ]
     },
     "execution_count": 13,
     "metadata": {},
     "output_type": "execute_result"
    }
   ],
   "source": [
    "df1"
   ]
  },
  {
   "cell_type": "code",
   "execution_count": 14,
   "id": "65125bf2-c400-4329-9fc8-502f3db88e29",
   "metadata": {},
   "outputs": [
    {
     "data": {
      "image/png": "[encoded data removed]",
      "text/plain": [
       "<Figure size 1000x500 with 1 Axes>"
      ]
     },
     "metadata": {},
     "output_type": "display_data"
    }
   ],
   "source": [
    "plt.figure(figsize=(10,5))\n",
    "sns.scatterplot(x='LON',y='LAT',data=df1,hue='no_of_crime')\n",
    "plt.title('Geographical Crime Hotspots')\n",
    "plt.xlabel('Longitude')\n",
    "plt.ylabel('Latitude')\n",
    "plt.show()"
   ]
  },
  {
   "cell_type": "markdown",
   "id": "5503f120-efd2-4ce2-89cc-43b260a6b666",
   "metadata": {},
   "source": [
    "#### conclusion : you can see the cluster where the most of crime happen [wE CAN Increase Police Presence,Enhance Security] TO REDUCE THE CRIME AT THAT LOCATION"
   ]
  },
  {
   "cell_type": "markdown",
   "id": "5ed6df5a-8916-4ccd-96e2-d868a8f5b2ad",
   "metadata": {},
   "source": [
    "# VICTIM DEMOGRAPHIC"
   ]
  },
  {
   "cell_type": "markdown",
   "id": "fd9e78ac-1b47-474c-a542-2c4b350e44b8",
   "metadata": {},
   "source": [
    "### Q2) WHAT IS THE DISTRIBUTION OF VICTIMS AGES IN REPORTED CRIMES?"
   ]
  },
  {
   "cell_type": "code",
   "execution_count": 15,
   "id": "3e839554-53bf-4724-81d8-9a146f3a7440",
   "metadata": {},
   "outputs": [
    {
     "data": {
      "text/plain": [
       "Index(['DR_NO', 'Date_Rptd', 'DATE_OCC', 'AREA_NAME', 'Crm_Cd', 'Crm_Cd_Desc',\n",
       "       'Vict_Age', 'Vict_Sex', 'Premis_Desc', 'Status', 'Location', 'LAT',\n",
       "       'LON'],\n",
       "      dtype='object')"
      ]
     },
     "execution_count": 15,
     "metadata": {},
     "output_type": "execute_result"
    }
   ],
   "source": [
    "df.columns"
   ]
  },
  {
   "cell_type": "code",
   "execution_count": 16,
   "id": "05262fe6-3919-45bf-9fc7-089666cb8426",
   "metadata": {},
   "outputs": [
    {
     "name": "stderr",
     "output_type": "stream",
     "text": [
      "C:\\Users\\HP\\AppData\\Local\\Temp\\ipykernel_1988\\2878536085.py:1: UserWarning: pandas only supports SQLAlchemy connectable (engine/connection) or database string URI or sqlite3 DBAPI2 connection. Other DBAPI2 objects are not tested. Please consider using SQLAlchemy.\n",
      "  df2=pd.read_sql_query(\"\"\" SELECT Vict_Age, COUNT(*) AS Crime_Count FROM crime_data WHERE Vict_Age IS NOT NULL GROUP BY Vict_Age ORDER BY Crime_Count desc \"\"\",connection)\n"
     ]
    }
   ],
   "source": [
    "df2=pd.read_sql_query(\"\"\" SELECT Vict_Age, COUNT(*) AS Crime_Count FROM crime_data WHERE Vict_Age IS NOT NULL GROUP BY Vict_Age ORDER BY Crime_Count desc \"\"\",connection)"
   ]
  },
  {
   "cell_type": "code",
   "execution_count": 17,
   "id": "380b096f-9316-4fcc-a729-da7dbfd3d8b8",
   "metadata": {},
   "outputs": [
    {
     "data": {
      "text/html": [
       "<div>\n",
       "<style scoped>\n",
       "    .dataframe tbody tr th:only-of-type {\n",
       "        vertical-align: middle;\n",
       "    }\n",
       "\n",
       "    .dataframe tbody tr th {\n",
       "        vertical-align: top;\n",
       "    }\n",
       "\n",
       "    .dataframe thead th {\n",
       "        text-align: right;\n",
       "    }\n",
       "</style>\n",
       "<table border=\"1\" class=\"dataframe\">\n",
       "  <thead>\n",
       "    <tr style=\"text-align: right;\">\n",
       "      <th></th>\n",
       "      <th>Vict_Age</th>\n",
       "      <th>Crime_Count</th>\n",
       "    </tr>\n",
       "  </thead>\n",
       "  <tbody>\n",
       "    <tr>\n",
       "      <th>0</th>\n",
       "      <td>0</td>\n",
       "      <td>90</td>\n",
       "    </tr>\n",
       "    <tr>\n",
       "      <th>1</th>\n",
       "      <td>26</td>\n",
       "      <td>19</td>\n",
       "    </tr>\n",
       "    <tr>\n",
       "      <th>2</th>\n",
       "      <td>35</td>\n",
       "      <td>17</td>\n",
       "    </tr>\n",
       "    <tr>\n",
       "      <th>3</th>\n",
       "      <td>28</td>\n",
       "      <td>16</td>\n",
       "    </tr>\n",
       "    <tr>\n",
       "      <th>4</th>\n",
       "      <td>23</td>\n",
       "      <td>15</td>\n",
       "    </tr>\n",
       "    <tr>\n",
       "      <th>...</th>\n",
       "      <td>...</td>\n",
       "      <td>...</td>\n",
       "    </tr>\n",
       "    <tr>\n",
       "      <th>61</th>\n",
       "      <td>8</td>\n",
       "      <td>1</td>\n",
       "    </tr>\n",
       "    <tr>\n",
       "      <th>62</th>\n",
       "      <td>9</td>\n",
       "      <td>1</td>\n",
       "    </tr>\n",
       "    <tr>\n",
       "      <th>63</th>\n",
       "      <td>17</td>\n",
       "      <td>1</td>\n",
       "    </tr>\n",
       "    <tr>\n",
       "      <th>64</th>\n",
       "      <td>70</td>\n",
       "      <td>1</td>\n",
       "    </tr>\n",
       "    <tr>\n",
       "      <th>65</th>\n",
       "      <td>78</td>\n",
       "      <td>1</td>\n",
       "    </tr>\n",
       "  </tbody>\n",
       "</table>\n",
       "<p>66 rows × 2 columns</p>\n",
       "</div>"
      ],
      "text/plain": [
       "    Vict_Age  Crime_Count\n",
       "0          0           90\n",
       "1         26           19\n",
       "2         35           17\n",
       "3         28           16\n",
       "4         23           15\n",
       "..       ...          ...\n",
       "61         8            1\n",
       "62         9            1\n",
       "63        17            1\n",
       "64        70            1\n",
       "65        78            1\n",
       "\n",
       "[66 rows x 2 columns]"
      ]
     },
     "execution_count": 17,
     "metadata": {},
     "output_type": "execute_result"
    }
   ],
   "source": [
    "df2\n"
   ]
  },
  {
   "cell_type": "code",
   "execution_count": 18,
   "id": "33bd6976-1545-4aa0-9f9e-da4298204070",
   "metadata": {},
   "outputs": [
    {
     "data": {
      "image/png": "[encoded data removed]",
      "text/plain": [
       "<Figure size 640x480 with 1 Axes>"
      ]
     },
     "metadata": {},
     "output_type": "display_data"
    }
   ],
   "source": [
    "sns.histplot(df['Vict_Age'],bins=20,kde=True)\n",
    "plt.title('Distribution of Victims Ages in Reported Crimes')\n",
    "plt.xlabel('Vict_Age')\n",
    "plt.ylabel('COUNT OF CRIMES')\n",
    "plt.show()"
   ]
  },
  {
   "cell_type": "markdown",
   "id": "6d04661b-1e61-4be9-8f86-d14a27f727a9",
   "metadata": {},
   "source": [
    "##### conclusion : there are most of crimal whose age is not pecified AND MOST OF THE CRIME ARE DONE BY THE AGE BETWEEN 20 to 45"
   ]
  },
  {
   "cell_type": "markdown",
   "id": "372390f5-f966-4a64-a84d-052d5eddb766",
   "metadata": {},
   "source": [
    "### Q3)IS there a significant diffrence in crime rates between male and female "
   ]
  },
  {
   "cell_type": "code",
   "execution_count": 19,
   "id": "64b2801c-5b24-401e-ae37-cf8008c6e79d",
   "metadata": {},
   "outputs": [
    {
     "data": {
      "text/plain": [
       "Index(['DR_NO', 'Date_Rptd', 'DATE_OCC', 'AREA_NAME', 'Crm_Cd', 'Crm_Cd_Desc',\n",
       "       'Vict_Age', 'Vict_Sex', 'Premis_Desc', 'Status', 'Location', 'LAT',\n",
       "       'LON'],\n",
       "      dtype='object')"
      ]
     },
     "execution_count": 19,
     "metadata": {},
     "output_type": "execute_result"
    }
   ],
   "source": [
    "df.columns"
   ]
  },
  {
   "cell_type": "code",
   "execution_count": 20,
   "id": "6930790e-7a18-4990-861b-174b5f6d5bf3",
   "metadata": {},
   "outputs": [
    {
     "data": {
      "text/plain": [
       "Vict_Sex\n",
       "M    278\n",
       "F    155\n",
       "X     39\n",
       "      27\n",
       "Name: count, dtype: int64"
      ]
     },
     "execution_count": 20,
     "metadata": {},
     "output_type": "execute_result"
    }
   ],
   "source": [
    "df9=df['Vict_Sex'].value_counts()          #it will count unique value \n",
    "df9"
   ]
  },
  {
   "cell_type": "code",
   "execution_count": 21,
   "id": "d25775cf-f39a-4f38-b7d4-c67bc7cd87b2",
   "metadata": {},
   "outputs": [
    {
     "name": "stderr",
     "output_type": "stream",
     "text": [
      "C:\\Users\\HP\\AppData\\Local\\Temp\\ipykernel_1988\\1067995296.py:1: UserWarning: pandas only supports SQLAlchemy connectable (engine/connection) or database string URI or sqlite3 DBAPI2 connection. Other DBAPI2 objects are not tested. Please consider using SQLAlchemy.\n",
      "  df3=pd.read_sql_query(\"\"\" SELECT\n"
     ]
    }
   ],
   "source": [
    "df3=pd.read_sql_query(\"\"\" SELECT\n",
    "    Vict_Sex,\n",
    "    COUNT(*) AS TotalCrimes,\n",
    "    ROUND(COUNT(*) * 100.0 / (SELECT COUNT(*) FROM crime_data WHERE Vict_Sex IN ('M', 'F')), 2) AS Percentage\n",
    "FROM\n",
    "    crime_data\n",
    "WHERE\n",
    "    Vict_Sex IN ('M', 'F')\n",
    "GROUP BY\n",
    "    Vict_Sex;\n",
    " \"\"\" ,connection)"
   ]
  },
  {
   "cell_type": "code",
   "execution_count": 22,
   "id": "9b94098d-079a-4ae9-8f8d-f9bd53ed7b04",
   "metadata": {},
   "outputs": [
    {
     "data": {
      "text/html": [
       "<div>\n",
       "<style scoped>\n",
       "    .dataframe tbody tr th:only-of-type {\n",
       "        vertical-align: middle;\n",
       "    }\n",
       "\n",
       "    .dataframe tbody tr th {\n",
       "        vertical-align: top;\n",
       "    }\n",
       "\n",
       "    .dataframe thead th {\n",
       "        text-align: right;\n",
       "    }\n",
       "</style>\n",
       "<table border=\"1\" class=\"dataframe\">\n",
       "  <thead>\n",
       "    <tr style=\"text-align: right;\">\n",
       "      <th></th>\n",
       "      <th>Vict_Sex</th>\n",
       "      <th>TotalCrimes</th>\n",
       "      <th>Percentage</th>\n",
       "    </tr>\n",
       "  </thead>\n",
       "  <tbody>\n",
       "    <tr>\n",
       "      <th>0</th>\n",
       "      <td>F</td>\n",
       "      <td>155</td>\n",
       "      <td>35.8</td>\n",
       "    </tr>\n",
       "    <tr>\n",
       "      <th>1</th>\n",
       "      <td>M</td>\n",
       "      <td>278</td>\n",
       "      <td>64.2</td>\n",
       "    </tr>\n",
       "  </tbody>\n",
       "</table>\n",
       "</div>"
      ],
      "text/plain": [
       "  Vict_Sex  TotalCrimes  Percentage\n",
       "0        F          155        35.8\n",
       "1        M          278        64.2"
      ]
     },
     "execution_count": 22,
     "metadata": {},
     "output_type": "execute_result"
    }
   ],
   "source": [
    "df3"
   ]
  },
  {
   "cell_type": "code",
   "execution_count": 23,
   "id": "6bf757c7-0a3b-477e-afa7-e1edb04cd1c4",
   "metadata": {},
   "outputs": [
    {
     "data": {
      "image/png": "[encoded data removed]",
      "text/plain": [
       "<Figure size 800x600 with 1 Axes>"
      ]
     },
     "metadata": {},
     "output_type": "display_data"
    }
   ],
   "source": [
    "plt.figure(figsize=(8, 6))\n",
    "plt.bar(df3['Vict_Sex'], df3['TotalCrimes'], color=['blue', 'pink'])\n",
    "plt.title('Crime Distribution by Gender')\n",
    "plt.xlabel('Gender')\n",
    "plt.ylabel('Total Crimes')\n",
    "plt.show()\n"
   ]
  },
  {
   "cell_type": "markdown",
   "id": "667d70ba-82ac-47ff-a24c-74db4da3e615",
   "metadata": {},
   "source": [
    "##### conclusion : MALE ARE COMMECTING THE CRIME TWICE THE FEMALE "
   ]
  },
  {
   "cell_type": "markdown",
   "id": "80d1af12-9d2b-43d0-ae9d-4a80246a97e9",
   "metadata": {},
   "source": [
    "# LOCATION ANALYSIS"
   ]
  },
  {
   "cell_type": "markdown",
   "id": "a877a43f-dc98-4797-b4c5-daa367cf4a2c",
   "metadata": {},
   "source": [
    "### Q4)where do most crime occured based on the \"Location\" clm?"
   ]
  },
  {
   "cell_type": "code",
   "execution_count": 24,
   "id": "f23b5f19-6808-46db-9370-effdc09e6356",
   "metadata": {},
   "outputs": [
    {
     "data": {
      "text/plain": [
       "Index(['DR_NO', 'Date_Rptd', 'DATE_OCC', 'AREA_NAME', 'Crm_Cd', 'Crm_Cd_Desc',\n",
       "       'Vict_Age', 'Vict_Sex', 'Premis_Desc', 'Status', 'Location', 'LAT',\n",
       "       'LON'],\n",
       "      dtype='object')"
      ]
     },
     "execution_count": 24,
     "metadata": {},
     "output_type": "execute_result"
    }
   ],
   "source": [
    "df.columns"
   ]
  },
  {
   "cell_type": "code",
   "execution_count": 25,
   "id": "4905ecb1-14e4-4248-98b0-70dba6f53d4a",
   "metadata": {},
   "outputs": [
    {
     "name": "stderr",
     "output_type": "stream",
     "text": [
      "C:\\Users\\HP\\AppData\\Local\\Temp\\ipykernel_1988\\367456570.py:1: UserWarning: pandas only supports SQLAlchemy connectable (engine/connection) or database string URI or sqlite3 DBAPI2 connection. Other DBAPI2 objects are not tested. Please consider using SQLAlchemy.\n",
      "  df4 =pd.read_sql_query(\"\"\" Select Location ,count(*) as No_of_Crime_as_per_location from crime_data GROUP BY Location Order by No_of_Crime_as_per_location desc limit 4\"\"\", connection)\n"
     ]
    }
   ],
   "source": [
    "df4 =pd.read_sql_query(\"\"\" Select Location ,count(*) as No_of_Crime_as_per_location from crime_data GROUP BY Location Order by No_of_Crime_as_per_location desc limit 4\"\"\", connection)"
   ]
  },
  {
   "cell_type": "code",
   "execution_count": 26,
   "id": "9e13cd87-43fc-4764-b963-99a921b0eb6f",
   "metadata": {},
   "outputs": [
    {
     "data": {
      "text/html": [
       "<div>\n",
       "<style scoped>\n",
       "    .dataframe tbody tr th:only-of-type {\n",
       "        vertical-align: middle;\n",
       "    }\n",
       "\n",
       "    .dataframe tbody tr th {\n",
       "        vertical-align: top;\n",
       "    }\n",
       "\n",
       "    .dataframe thead th {\n",
       "        text-align: right;\n",
       "    }\n",
       "</style>\n",
       "<table border=\"1\" class=\"dataframe\">\n",
       "  <thead>\n",
       "    <tr style=\"text-align: right;\">\n",
       "      <th></th>\n",
       "      <th>Location</th>\n",
       "      <th>No_of_Crime_as_per_location</th>\n",
       "    </tr>\n",
       "  </thead>\n",
       "  <tbody>\n",
       "    <tr>\n",
       "      <th>0</th>\n",
       "      <td>800 N ALAMEDA ST</td>\n",
       "      <td>14</td>\n",
       "    </tr>\n",
       "    <tr>\n",
       "      <th>1</th>\n",
       "      <td>700 W 7TH ST</td>\n",
       "      <td>11</td>\n",
       "    </tr>\n",
       "    <tr>\n",
       "      <th>2</th>\n",
       "      <td>300 E 5TH ST</td>\n",
       "      <td>6</td>\n",
       "    </tr>\n",
       "    <tr>\n",
       "      <th>3</th>\n",
       "      <td>1100 S FIGUEROA ST</td>\n",
       "      <td>6</td>\n",
       "    </tr>\n",
       "  </tbody>\n",
       "</table>\n",
       "</div>"
      ],
      "text/plain": [
       "             Location  No_of_Crime_as_per_location\n",
       "0    800 N ALAMEDA ST                           14\n",
       "1        700 W 7TH ST                           11\n",
       "2        300 E 5TH ST                            6\n",
       "3  1100 S FIGUEROA ST                            6"
      ]
     },
     "execution_count": 26,
     "metadata": {},
     "output_type": "execute_result"
    }
   ],
   "source": [
    "df4"
   ]
  },
  {
   "cell_type": "code",
   "execution_count": 27,
   "id": "4e194bff-c90a-4196-83f3-147cb0620567",
   "metadata": {},
   "outputs": [
    {
     "data": {
      "image/png": "[encoded data removed]",
      "text/plain": [
       "<Figure size 800x600 with 1 Axes>"
      ]
     },
     "metadata": {},
     "output_type": "display_data"
    }
   ],
   "source": [
    "plt.figure(figsize=(8, 6))\n",
    "plt.bar(df4['Location'], df4['No_of_Crime_as_per_location'], color=['blue', 'pink'])\n",
    "plt.title('TOP 4 Crime Distribution by Location')\n",
    "plt.xlabel('Location')\n",
    "plt.ylabel('Total Crimes')\n",
    "plt.show()\n",
    "\n"
   ]
  },
  {
   "cell_type": "markdown",
   "id": "1070dbc3-edaf-473f-a54d-bfdbd8b07a6a",
   "metadata": {},
   "source": [
    "##### CONCLUSION : MOST OF THE CRIME ARE COMMITED AT LOCATION AS SHOWN IN BAR CHART "
   ]
  },
  {
   "cell_type": "markdown",
   "id": "2c89b20a-d7e2-4143-9cfb-14028e7c93ef",
   "metadata": {},
   "source": [
    "# CRIME CODE ANALYSIS"
   ]
  },
  {
   "cell_type": "markdown",
   "id": "3a6ef936-78c1-425b-8de4-fccb0c8e390e",
   "metadata": {},
   "source": [
    "### Q5) WHAT IS THE DISTRIBUTION OF REPORTED CRIME BASED ON CRIME CODE?"
   ]
  },
  {
   "cell_type": "code",
   "execution_count": 28,
   "id": "6b2afa34-f248-4050-8a67-bc7a141b7fc6",
   "metadata": {},
   "outputs": [
    {
     "data": {
      "text/plain": [
       "Index(['DR_NO', 'Date_Rptd', 'DATE_OCC', 'AREA_NAME', 'Crm_Cd', 'Crm_Cd_Desc',\n",
       "       'Vict_Age', 'Vict_Sex', 'Premis_Desc', 'Status', 'Location', 'LAT',\n",
       "       'LON'],\n",
       "      dtype='object')"
      ]
     },
     "execution_count": 28,
     "metadata": {},
     "output_type": "execute_result"
    }
   ],
   "source": [
    "df.columns"
   ]
  },
  {
   "cell_type": "code",
   "execution_count": 29,
   "id": "bf61d398-a3ce-47cb-83b5-c0215188d960",
   "metadata": {},
   "outputs": [
    {
     "name": "stderr",
     "output_type": "stream",
     "text": [
      "C:\\Users\\HP\\AppData\\Local\\Temp\\ipykernel_1988\\1151101989.py:1: UserWarning: pandas only supports SQLAlchemy connectable (engine/connection) or database string URI or sqlite3 DBAPI2 connection. Other DBAPI2 objects are not tested. Please consider using SQLAlchemy.\n",
      "  df5=pd.read_sql_query(\"\"\" Select Crm_Cd,count(*) as No_of_Crimes_AS_PER_CRIMECODE\n"
     ]
    }
   ],
   "source": [
    "df5=pd.read_sql_query(\"\"\" Select Crm_Cd,count(*) as No_of_Crimes_AS_PER_CRIMECODE \n",
    "FROM crime_data Group by Crm_cd order by No_of_Crimes_AS_PER_CRIMECODE desc \"\"\", connection)"
   ]
  },
  {
   "cell_type": "code",
   "execution_count": 30,
   "id": "e8a8055a-4c83-41dc-b45f-71deb2a0cafc",
   "metadata": {},
   "outputs": [
    {
     "data": {
      "text/html": [
       "<div>\n",
       "<style scoped>\n",
       "    .dataframe tbody tr th:only-of-type {\n",
       "        vertical-align: middle;\n",
       "    }\n",
       "\n",
       "    .dataframe tbody tr th {\n",
       "        vertical-align: top;\n",
       "    }\n",
       "\n",
       "    .dataframe thead th {\n",
       "        text-align: right;\n",
       "    }\n",
       "</style>\n",
       "<table border=\"1\" class=\"dataframe\">\n",
       "  <thead>\n",
       "    <tr style=\"text-align: right;\">\n",
       "      <th></th>\n",
       "      <th>Crm_Cd</th>\n",
       "      <th>No_of_Crimes_AS_PER_CRIMECODE</th>\n",
       "    </tr>\n",
       "  </thead>\n",
       "  <tbody>\n",
       "    <tr>\n",
       "      <th>0</th>\n",
       "      <td>330</td>\n",
       "      <td>82</td>\n",
       "    </tr>\n",
       "    <tr>\n",
       "      <th>1</th>\n",
       "      <td>624</td>\n",
       "      <td>74</td>\n",
       "    </tr>\n",
       "    <tr>\n",
       "      <th>2</th>\n",
       "      <td>440</td>\n",
       "      <td>44</td>\n",
       "    </tr>\n",
       "    <tr>\n",
       "      <th>3</th>\n",
       "      <td>442</td>\n",
       "      <td>28</td>\n",
       "    </tr>\n",
       "    <tr>\n",
       "      <th>4</th>\n",
       "      <td>510</td>\n",
       "      <td>28</td>\n",
       "    </tr>\n",
       "    <tr>\n",
       "      <th>5</th>\n",
       "      <td>341</td>\n",
       "      <td>26</td>\n",
       "    </tr>\n",
       "    <tr>\n",
       "      <th>6</th>\n",
       "      <td>230</td>\n",
       "      <td>24</td>\n",
       "    </tr>\n",
       "    <tr>\n",
       "      <th>7</th>\n",
       "      <td>745</td>\n",
       "      <td>23</td>\n",
       "    </tr>\n",
       "    <tr>\n",
       "      <th>8</th>\n",
       "      <td>740</td>\n",
       "      <td>23</td>\n",
       "    </tr>\n",
       "    <tr>\n",
       "      <th>9</th>\n",
       "      <td>888</td>\n",
       "      <td>19</td>\n",
       "    </tr>\n",
       "    <tr>\n",
       "      <th>10</th>\n",
       "      <td>310</td>\n",
       "      <td>16</td>\n",
       "    </tr>\n",
       "    <tr>\n",
       "      <th>11</th>\n",
       "      <td>210</td>\n",
       "      <td>12</td>\n",
       "    </tr>\n",
       "    <tr>\n",
       "      <th>12</th>\n",
       "      <td>480</td>\n",
       "      <td>11</td>\n",
       "    </tr>\n",
       "    <tr>\n",
       "      <th>13</th>\n",
       "      <td>354</td>\n",
       "      <td>10</td>\n",
       "    </tr>\n",
       "    <tr>\n",
       "      <th>14</th>\n",
       "      <td>350</td>\n",
       "      <td>9</td>\n",
       "    </tr>\n",
       "    <tr>\n",
       "      <th>15</th>\n",
       "      <td>420</td>\n",
       "      <td>9</td>\n",
       "    </tr>\n",
       "    <tr>\n",
       "      <th>16</th>\n",
       "      <td>930</td>\n",
       "      <td>7</td>\n",
       "    </tr>\n",
       "    <tr>\n",
       "      <th>17</th>\n",
       "      <td>761</td>\n",
       "      <td>5</td>\n",
       "    </tr>\n",
       "    <tr>\n",
       "      <th>18</th>\n",
       "      <td>623</td>\n",
       "      <td>5</td>\n",
       "    </tr>\n",
       "    <tr>\n",
       "      <th>19</th>\n",
       "      <td>662</td>\n",
       "      <td>5</td>\n",
       "    </tr>\n",
       "    <tr>\n",
       "      <th>20</th>\n",
       "      <td>946</td>\n",
       "      <td>4</td>\n",
       "    </tr>\n",
       "    <tr>\n",
       "      <th>21</th>\n",
       "      <td>220</td>\n",
       "      <td>4</td>\n",
       "    </tr>\n",
       "    <tr>\n",
       "      <th>22</th>\n",
       "      <td>648</td>\n",
       "      <td>3</td>\n",
       "    </tr>\n",
       "    <tr>\n",
       "      <th>23</th>\n",
       "      <td>901</td>\n",
       "      <td>3</td>\n",
       "    </tr>\n",
       "    <tr>\n",
       "      <th>24</th>\n",
       "      <td>900</td>\n",
       "      <td>2</td>\n",
       "    </tr>\n",
       "    <tr>\n",
       "      <th>25</th>\n",
       "      <td>886</td>\n",
       "      <td>2</td>\n",
       "    </tr>\n",
       "    <tr>\n",
       "      <th>26</th>\n",
       "      <td>625</td>\n",
       "      <td>2</td>\n",
       "    </tr>\n",
       "    <tr>\n",
       "      <th>27</th>\n",
       "      <td>320</td>\n",
       "      <td>2</td>\n",
       "    </tr>\n",
       "    <tr>\n",
       "      <th>28</th>\n",
       "      <td>351</td>\n",
       "      <td>2</td>\n",
       "    </tr>\n",
       "    <tr>\n",
       "      <th>29</th>\n",
       "      <td>956</td>\n",
       "      <td>2</td>\n",
       "    </tr>\n",
       "    <tr>\n",
       "      <th>30</th>\n",
       "      <td>850</td>\n",
       "      <td>2</td>\n",
       "    </tr>\n",
       "    <tr>\n",
       "      <th>31</th>\n",
       "      <td>421</td>\n",
       "      <td>1</td>\n",
       "    </tr>\n",
       "    <tr>\n",
       "      <th>32</th>\n",
       "      <td>647</td>\n",
       "      <td>1</td>\n",
       "    </tr>\n",
       "    <tr>\n",
       "      <th>33</th>\n",
       "      <td>940</td>\n",
       "      <td>1</td>\n",
       "    </tr>\n",
       "    <tr>\n",
       "      <th>34</th>\n",
       "      <td>755</td>\n",
       "      <td>1</td>\n",
       "    </tr>\n",
       "    <tr>\n",
       "      <th>35</th>\n",
       "      <td>649</td>\n",
       "      <td>1</td>\n",
       "    </tr>\n",
       "    <tr>\n",
       "      <th>36</th>\n",
       "      <td>890</td>\n",
       "      <td>1</td>\n",
       "    </tr>\n",
       "    <tr>\n",
       "      <th>37</th>\n",
       "      <td>820</td>\n",
       "      <td>1</td>\n",
       "    </tr>\n",
       "    <tr>\n",
       "      <th>38</th>\n",
       "      <td>812</td>\n",
       "      <td>1</td>\n",
       "    </tr>\n",
       "    <tr>\n",
       "      <th>39</th>\n",
       "      <td>920</td>\n",
       "      <td>1</td>\n",
       "    </tr>\n",
       "    <tr>\n",
       "      <th>40</th>\n",
       "      <td>666</td>\n",
       "      <td>1</td>\n",
       "    </tr>\n",
       "    <tr>\n",
       "      <th>41</th>\n",
       "      <td>343</td>\n",
       "      <td>1</td>\n",
       "    </tr>\n",
       "  </tbody>\n",
       "</table>\n",
       "</div>"
      ],
      "text/plain": [
       "    Crm_Cd  No_of_Crimes_AS_PER_CRIMECODE\n",
       "0      330                             82\n",
       "1      624                             74\n",
       "2      440                             44\n",
       "3      442                             28\n",
       "4      510                             28\n",
       "5      341                             26\n",
       "6      230                             24\n",
       "7      745                             23\n",
       "8      740                             23\n",
       "9      888                             19\n",
       "10     310                             16\n",
       "11     210                             12\n",
       "12     480                             11\n",
       "13     354                             10\n",
       "14     350                              9\n",
       "15     420                              9\n",
       "16     930                              7\n",
       "17     761                              5\n",
       "18     623                              5\n",
       "19     662                              5\n",
       "20     946                              4\n",
       "21     220                              4\n",
       "22     648                              3\n",
       "23     901                              3\n",
       "24     900                              2\n",
       "25     886                              2\n",
       "26     625                              2\n",
       "27     320                              2\n",
       "28     351                              2\n",
       "29     956                              2\n",
       "30     850                              2\n",
       "31     421                              1\n",
       "32     647                              1\n",
       "33     940                              1\n",
       "34     755                              1\n",
       "35     649                              1\n",
       "36     890                              1\n",
       "37     820                              1\n",
       "38     812                              1\n",
       "39     920                              1\n",
       "40     666                              1\n",
       "41     343                              1"
      ]
     },
     "execution_count": 30,
     "metadata": {},
     "output_type": "execute_result"
    }
   ],
   "source": [
    "df5"
   ]
  },
  {
   "cell_type": "code",
   "execution_count": 31,
   "id": "fad85889-8ae3-419e-9db5-53e4d23f2c03",
   "metadata": {},
   "outputs": [
    {
     "data": {
      "image/png": "[encoded data removed]",
      "text/plain": [
       "<Figure size 800x1000 with 1 Axes>"
      ]
     },
     "metadata": {},
     "output_type": "display_data"
    }
   ],
   "source": [
    "# Plotting a pie chart\n",
    "plt.figure(figsize=(8, 10))\n",
    "plt.pie(df5['No_of_Crimes_AS_PER_CRIMECODE'], labels=df5['Crm_Cd'], autopct='%1.1f%%', startangle=140)\n",
    "plt.title('TOP 10 Distribution of Reported Crimes Based on Crime Code')\n",
    "plt.show()"
   ]
  },
  {
   "cell_type": "markdown",
   "id": "5813a0f2-cf65-4b8b-ba83-b66bab6fb5a8",
   "metadata": {},
   "source": [
    "##### CONCLUSION : top 4 crime code i.e(330,624,440,442,510)commited 51.2% of crime  "
   ]
  },
  {
   "cell_type": "code",
   "execution_count": null,
   "id": "e338c449-8cdf-444d-bb6a-762363199ec9",
   "metadata": {},
   "outputs": [],
   "source": []
  },
  {
   "cell_type": "code",
   "execution_count": null,
   "id": "472c5ac1-30c4-4f4d-9635-eac42c4380cf",
   "metadata": {},
   "outputs": [],
   "source": []
  },
  {
   "cell_type": "code",
   "execution_count": null,
   "id": "f87d7d0c-4fd3-4d95-ad2a-d361232a22ff",
   "metadata": {},
   "outputs": [],
   "source": []
  },
  {
   "cell_type": "code",
   "execution_count": null,
   "id": "92caa45e-2ffd-42b7-9639-62bb391d7189",
   "metadata": {},
   "outputs": [],
   "source": []
  },
  {
   "cell_type": "code",
   "execution_count": null,
   "id": "ded0a793-86f9-4259-bdd6-52c611de1510",
   "metadata": {},
   "outputs": [],
   "source": []
  },
  {
   "cell_type": "code",
   "execution_count": null,
   "id": "2c890a24-5b43-4585-bdd5-4052384444b6",
   "metadata": {},
   "outputs": [],
   "source": []
  },
  {
   "cell_type": "code",
   "execution_count": null,
   "id": "1ca93f8c-ceb3-4b17-890e-89834af56d28",
   "metadata": {},
   "outputs": [],
   "source": []
  },
  {
   "cell_type": "markdown",
   "id": "05a90a43-0602-43b7-910b-46a657075646",
   "metadata": {},
   "source": [
    "## TEMPORAL ANALYSIS TO ANALYSIZE THE DATA OVER TIME/TIME RELATED ANALYSIS "
   ]
  },
  {
   "cell_type": "code",
   "execution_count": 32,
   "id": "80e4bab8-6f4c-4eb0-a646-436238f0fb41",
   "metadata": {},
   "outputs": [
    {
     "data": {
      "text/plain": [
       "Index(['DR_NO', 'Date_Rptd', 'DATE_OCC', 'AREA_NAME', 'Crm_Cd', 'Crm_Cd_Desc',\n",
       "       'Vict_Age', 'Vict_Sex', 'Premis_Desc', 'Status', 'Location', 'LAT',\n",
       "       'LON'],\n",
       "      dtype='object')"
      ]
     },
     "execution_count": 32,
     "metadata": {},
     "output_type": "execute_result"
    }
   ],
   "source": [
    "df.columns"
   ]
  },
  {
   "cell_type": "code",
   "execution_count": 33,
   "id": "ed965815-eeb7-46e1-bc5c-3cdbad0ce467",
   "metadata": {},
   "outputs": [
    {
     "name": "stderr",
     "output_type": "stream",
     "text": [
      "C:\\Users\\HP\\AppData\\Local\\Temp\\ipykernel_1988\\3816163954.py:1: UserWarning: pandas only supports SQLAlchemy connectable (engine/connection) or database string URI or sqlite3 DBAPI2 connection. Other DBAPI2 objects are not tested. Please consider using SQLAlchemy.\n",
      "  df6=pd.read_sql_query(\"\"\"select Date_Rptd,count(*) as count_crime from crime_data group by Date_Rptd order by count_crime desc\"\"\",connection)\n"
     ]
    }
   ],
   "source": [
    "df6=pd.read_sql_query(\"\"\"select Date_Rptd,count(*) as count_crime from crime_data group by Date_Rptd order by count_crime desc\"\"\",connection)"
   ]
  },
  {
   "cell_type": "code",
   "execution_count": 34,
   "id": "1daaa2ee-4e8f-4b67-bbd8-3d6a48b06460",
   "metadata": {},
   "outputs": [
    {
     "data": {
      "text/html": [
       "<div>\n",
       "<style scoped>\n",
       "    .dataframe tbody tr th:only-of-type {\n",
       "        vertical-align: middle;\n",
       "    }\n",
       "\n",
       "    .dataframe tbody tr th {\n",
       "        vertical-align: top;\n",
       "    }\n",
       "\n",
       "    .dataframe thead th {\n",
       "        text-align: right;\n",
       "    }\n",
       "</style>\n",
       "<table border=\"1\" class=\"dataframe\">\n",
       "  <thead>\n",
       "    <tr style=\"text-align: right;\">\n",
       "      <th></th>\n",
       "      <th>Date_Rptd</th>\n",
       "      <th>count_crime</th>\n",
       "    </tr>\n",
       "  </thead>\n",
       "  <tbody>\n",
       "    <tr>\n",
       "      <th>0</th>\n",
       "      <td>01-11-2020</td>\n",
       "      <td>42</td>\n",
       "    </tr>\n",
       "    <tr>\n",
       "      <th>1</th>\n",
       "      <td>01-12-2020</td>\n",
       "      <td>34</td>\n",
       "    </tr>\n",
       "    <tr>\n",
       "      <th>2</th>\n",
       "      <td>02-02-2020</td>\n",
       "      <td>31</td>\n",
       "    </tr>\n",
       "    <tr>\n",
       "      <th>3</th>\n",
       "      <td>01-02-2020</td>\n",
       "      <td>30</td>\n",
       "    </tr>\n",
       "    <tr>\n",
       "      <th>4</th>\n",
       "      <td>01-08-2020</td>\n",
       "      <td>27</td>\n",
       "    </tr>\n",
       "    <tr>\n",
       "      <th>...</th>\n",
       "      <td>...</td>\n",
       "      <td>...</td>\n",
       "    </tr>\n",
       "    <tr>\n",
       "      <th>63</th>\n",
       "      <td>09-08-2020</td>\n",
       "      <td>1</td>\n",
       "    </tr>\n",
       "    <tr>\n",
       "      <th>64</th>\n",
       "      <td>02-12-2020</td>\n",
       "      <td>1</td>\n",
       "    </tr>\n",
       "    <tr>\n",
       "      <th>65</th>\n",
       "      <td>11-04-2020</td>\n",
       "      <td>1</td>\n",
       "    </tr>\n",
       "    <tr>\n",
       "      <th>66</th>\n",
       "      <td>01-08-2021</td>\n",
       "      <td>1</td>\n",
       "    </tr>\n",
       "    <tr>\n",
       "      <th>67</th>\n",
       "      <td>02-11-2020</td>\n",
       "      <td>1</td>\n",
       "    </tr>\n",
       "  </tbody>\n",
       "</table>\n",
       "<p>68 rows × 2 columns</p>\n",
       "</div>"
      ],
      "text/plain": [
       "     Date_Rptd  count_crime\n",
       "0   01-11-2020           42\n",
       "1   01-12-2020           34\n",
       "2   02-02-2020           31\n",
       "3   01-02-2020           30\n",
       "4   01-08-2020           27\n",
       "..         ...          ...\n",
       "63  09-08-2020            1\n",
       "64  02-12-2020            1\n",
       "65  11-04-2020            1\n",
       "66  01-08-2021            1\n",
       "67  02-11-2020            1\n",
       "\n",
       "[68 rows x 2 columns]"
      ]
     },
     "execution_count": 34,
     "metadata": {},
     "output_type": "execute_result"
    }
   ],
   "source": [
    "df6\n"
   ]
  },
  {
   "cell_type": "code",
   "execution_count": 35,
   "id": "48467ad6-ae4b-4818-bbab-5a87775dea5c",
   "metadata": {},
   "outputs": [
    {
     "data": {
      "text/plain": [
       "Index(['DR_NO', 'Date_Rptd', 'DATE_OCC', 'AREA_NAME', 'Crm_Cd', 'Crm_Cd_Desc',\n",
       "       'Vict_Age', 'Vict_Sex', 'Premis_Desc', 'Status', 'Location', 'LAT',\n",
       "       'LON'],\n",
       "      dtype='object')"
      ]
     },
     "execution_count": 35,
     "metadata": {},
     "output_type": "execute_result"
    }
   ],
   "source": [
    "df.columns"
   ]
  },
  {
   "cell_type": "code",
   "execution_count": 37,
   "id": "766d0ab1-2552-49e2-9f79-59b64e29abe5",
   "metadata": {},
   "outputs": [
    {
     "name": "stderr",
     "output_type": "stream",
     "text": [
      "C:\\Users\\HP\\AppData\\Local\\Temp\\ipykernel_1988\\1888304313.py:1: UserWarning: pandas only supports SQLAlchemy connectable (engine/connection) or database string URI or sqlite3 DBAPI2 connection. Other DBAPI2 objects are not tested. Please consider using SQLAlchemy.\n",
      "  df7=pd.read_sql_query(\"\"\"select DATE_OCC,count(*) as count_crime from crime_data group by DATE_OCC order by count_crime desc\"\"\",connection)\n"
     ]
    }
   ],
   "source": [
    "df7=pd.read_sql_query(\"\"\"select DATE_OCC,count(*) as count_crime from crime_data group by DATE_OCC order by count_crime desc\"\"\",connection)"
   ]
  },
  {
   "cell_type": "code",
   "execution_count": 38,
   "id": "37f42aee-57be-4223-84c3-bf4353bb1c88",
   "metadata": {},
   "outputs": [
    {
     "data": {
      "text/html": [
       "<div>\n",
       "<style scoped>\n",
       "    .dataframe tbody tr th:only-of-type {\n",
       "        vertical-align: middle;\n",
       "    }\n",
       "\n",
       "    .dataframe tbody tr th {\n",
       "        vertical-align: top;\n",
       "    }\n",
       "\n",
       "    .dataframe thead th {\n",
       "        text-align: right;\n",
       "    }\n",
       "</style>\n",
       "<table border=\"1\" class=\"dataframe\">\n",
       "  <thead>\n",
       "    <tr style=\"text-align: right;\">\n",
       "      <th></th>\n",
       "      <th>DATE_OCC</th>\n",
       "      <th>count_crime</th>\n",
       "    </tr>\n",
       "  </thead>\n",
       "  <tbody>\n",
       "    <tr>\n",
       "      <th>0</th>\n",
       "      <td>01-11-2020</td>\n",
       "      <td>38</td>\n",
       "    </tr>\n",
       "    <tr>\n",
       "      <th>1</th>\n",
       "      <td>02-01-2020</td>\n",
       "      <td>35</td>\n",
       "    </tr>\n",
       "    <tr>\n",
       "      <th>2</th>\n",
       "      <td>01-01-2020</td>\n",
       "      <td>34</td>\n",
       "    </tr>\n",
       "    <tr>\n",
       "      <th>3</th>\n",
       "      <td>01-06-2020</td>\n",
       "      <td>33</td>\n",
       "    </tr>\n",
       "    <tr>\n",
       "      <th>4</th>\n",
       "      <td>01-04-2020</td>\n",
       "      <td>29</td>\n",
       "    </tr>\n",
       "    <tr>\n",
       "      <th>...</th>\n",
       "      <td>...</td>\n",
       "      <td>...</td>\n",
       "    </tr>\n",
       "    <tr>\n",
       "      <th>56</th>\n",
       "      <td>09-04-2020</td>\n",
       "      <td>1</td>\n",
       "    </tr>\n",
       "    <tr>\n",
       "      <th>57</th>\n",
       "      <td>11-04-2020</td>\n",
       "      <td>1</td>\n",
       "    </tr>\n",
       "    <tr>\n",
       "      <th>58</th>\n",
       "      <td>09-08-2020</td>\n",
       "      <td>1</td>\n",
       "    </tr>\n",
       "    <tr>\n",
       "      <th>59</th>\n",
       "      <td>02-10-2020</td>\n",
       "      <td>1</td>\n",
       "    </tr>\n",
       "    <tr>\n",
       "      <th>60</th>\n",
       "      <td>06-08-2020</td>\n",
       "      <td>1</td>\n",
       "    </tr>\n",
       "  </tbody>\n",
       "</table>\n",
       "<p>61 rows × 2 columns</p>\n",
       "</div>"
      ],
      "text/plain": [
       "      DATE_OCC  count_crime\n",
       "0   01-11-2020           38\n",
       "1   02-01-2020           35\n",
       "2   01-01-2020           34\n",
       "3   01-06-2020           33\n",
       "4   01-04-2020           29\n",
       "..         ...          ...\n",
       "56  09-04-2020            1\n",
       "57  11-04-2020            1\n",
       "58  09-08-2020            1\n",
       "59  02-10-2020            1\n",
       "60  06-08-2020            1\n",
       "\n",
       "[61 rows x 2 columns]"
      ]
     },
     "execution_count": 38,
     "metadata": {},
     "output_type": "execute_result"
    }
   ],
   "source": [
    "df7"
   ]
  },
  {
   "cell_type": "code",
   "execution_count": 39,
   "id": "e2887cba-8f2e-4e6a-8524-c40f299ccd13",
   "metadata": {},
   "outputs": [
    {
     "data": {
      "image/png": "[encoded data removed]",
      "text/plain": [
       "<Figure size 1200x600 with 1 Axes>"
      ]
     },
     "metadata": {},
     "output_type": "display_data"
    }
   ],
   "source": [
    "import pandas as pd\n",
    "import matplotlib.pyplot as plt\n",
    "\n",
    "# Assuming df is your DataFrame\n",
    "# Replace 'df' with the actual name of your DataFrame\n",
    "\n",
    "# Convert 'Date_Rptd' column to datetime format\n",
    "df['Date_Rptd'] = pd.to_datetime(df['Date_Rptd'])\n",
    "\n",
    "# Extract year and month from the 'Date_Rptd' column\n",
    "df['Year'] = df['Date_Rptd'].dt.year\n",
    "df['Month'] = df['Date_Rptd'].dt.month\n",
    "\n",
    "# Count the number of crimes for each month\n",
    "temporal_analysis = df.groupby(['Year', 'Month']).size().reset_index(name='Crime_Count')\n",
    "\n",
    "# Set figure size\n",
    "plt.figure(figsize=(12, 6))\n",
    "\n",
    "# Plot the temporal analysis\n",
    "plt.plot(temporal_analysis['Year'].astype(str) + '-' + temporal_analysis['Month'].astype(str), temporal_analysis['Crime_Count'], marker='o')\n",
    "\n",
    "# Set title and labels\n",
    "plt.title('Temporal Analysis of Reported Crimes')\n",
    "plt.xlabel('Year-Month')\n",
    "plt.ylabel('Number of Crimes')\n",
    "\n",
    "# Rotate x-axis labels for better readability\n",
    "plt.xticks(rotation=45)\n",
    "\n",
    "# Show the plot\n",
    "plt.show()\n"
   ]
  },
  {
   "cell_type": "markdown",
   "id": "654b6f12-7ff2-4202-b51f-bce6edd2e832",
   "metadata": {},
   "source": [
    "#### CONCLUSION : MOST OF THE CRIME REPORTED ON STARTING THREE MONTH"
   ]
  },
  {
   "cell_type": "markdown",
   "id": "0cf01d44-9685-442b-a6d4-c0d3b58d27cc",
   "metadata": {},
   "source": [
    "# END"
   ]
  },
  {
   "cell_type": "code",
   "execution_count": null,
   "id": "0fe18cc8-73be-44d5-8823-d0421d483590",
   "metadata": {},
   "outputs": [],
   "source": []
  },
  {
   "cell_type": "code",
   "execution_count": null,
   "id": "e69706b3-2bf3-42ac-8684-b062844b5034",
   "metadata": {},
   "outputs": [],
   "source": []
  },
  {
   "cell_type": "code",
   "execution_count": null,
   "id": "0583b12f-6c5b-46b9-b9a2-3eefae4f8b2b",
   "metadata": {},
   "outputs": [],
   "source": []
  },
  {
   "cell_type": "code",
   "execution_count": null,
   "id": "eb4b4093-1536-427c-a571-8a5b5a3b3391",
   "metadata": {},
   "outputs": [],
   "source": []
  },
  {
   "cell_type": "code",
   "execution_count": null,
   "id": "105c9244-716e-4af2-a2a3-3c468f5ae5d9",
   "metadata": {},
   "outputs": [],
   "source": []
  },
  {
   "cell_type": "code",
   "execution_count": null,
   "id": "e0d85711-6c76-407e-b2f7-0837ce6b44d5",
   "metadata": {},
   "outputs": [],
   "source": []
  },
  {
   "cell_type": "code",
   "execution_count": null,
   "id": "40a659c1-9d4d-4f04-885e-6822f3aecdeb",
   "metadata": {},
   "outputs": [],
   "source": []
  },
  {
   "cell_type": "code",
   "execution_count": null,
   "id": "42af9482-578d-40c2-8ab3-98a4dbed5c64",
   "metadata": {},
   "outputs": [],
   "source": []
  },
  {
   "cell_type": "code",
   "execution_count": null,
   "id": "7949c9a3-070f-49fb-99f5-34a37be03e01",
   "metadata": {},
   "outputs": [],
   "source": []
  },
  {
   "cell_type": "code",
   "execution_count": null,
   "id": "49eb65e6-bff1-4f9a-9218-3f69acafc34e",
   "metadata": {},
   "outputs": [],
   "source": []
  },
  {
   "cell_type": "code",
   "execution_count": null,
   "id": "0e5ceeac-8b19-4dfa-9115-050f5aa3d169",
   "metadata": {},
   "outputs": [],
   "source": []
  },
  {
   "cell_type": "code",
   "execution_count": null,
   "id": "f05cd4c2-c1f0-47ab-a55a-9213adc51401",
   "metadata": {},
   "outputs": [],
   "source": []
  },
  {
   "cell_type": "code",
   "execution_count": null,
   "id": "2f5f06f8-9ad7-4225-b94a-e2e724b20363",
   "metadata": {},
   "outputs": [],
   "source": []
  },
  {
   "cell_type": "code",
   "execution_count": null,
   "id": "18efbeca-3110-4e03-98b1-245311677503",
   "metadata": {},
   "outputs": [],
   "source": []
  },
  {
   "cell_type": "code",
   "execution_count": null,
   "id": "571ad2c0-2aba-400e-9461-0514b5d8dec4",
   "metadata": {},
   "outputs": [],
   "source": []
  },
  {
   "cell_type": "code",
   "execution_count": null,
   "id": "4664c2ba-ec97-4844-882a-1be5bc33f8a6",
   "metadata": {},
   "outputs": [],
   "source": []
  },
  {
   "cell_type": "code",
   "execution_count": null,
   "id": "0d4a10f1-b3f2-48da-ab53-5d14855a3d66",
   "metadata": {},
   "outputs": [],
   "source": []
  },
  {
   "cell_type": "code",
   "execution_count": null,
   "id": "34b5be2d-6422-48fc-8150-c48c0bd05414",
   "metadata": {},
   "outputs": [],
   "source": []
  },
  {
   "cell_type": "code",
   "execution_count": null,
   "id": "95810fcf-33dc-4312-ab79-8d624b55493f",
   "metadata": {},
   "outputs": [],
   "source": []
  },
  {
   "cell_type": "code",
   "execution_count": null,
   "id": "5c1caf9e-68db-4b15-bc17-8c8d21b78821",
   "metadata": {},
   "outputs": [],
   "source": []
  },
  {
   "cell_type": "code",
   "execution_count": null,
   "id": "0cb8e21a-081b-4d96-85a0-1f146db7930e",
   "metadata": {},
   "outputs": [],
   "source": []
  },
  {
   "cell_type": "code",
   "execution_count": null,
   "id": "51d04af5-befb-4047-834a-1a5551c041f0",
   "metadata": {},
   "outputs": [],
   "source": []
  },
  {
   "cell_type": "code",
   "execution_count": null,
   "id": "9d6ae379-f8e9-4d57-b226-161a7911a6af",
   "metadata": {},
   "outputs": [],
   "source": []
  },
  {
   "cell_type": "code",
   "execution_count": null,
   "id": "d56c92dc-c80b-424b-9bc2-8ef4f3058a10",
   "metadata": {},
   "outputs": [],
   "source": []
  },
  {
   "cell_type": "code",
   "execution_count": null,
   "id": "a9f10bae-1414-49cc-baa0-307b8218cb9f",
   "metadata": {},
   "outputs": [],
   "source": []
  },
  {
   "cell_type": "code",
   "execution_count": null,
   "id": "afcfb658-240d-4caa-bc02-65c216325051",
   "metadata": {},
   "outputs": [],
   "source": []
  },
  {
   "cell_type": "code",
   "execution_count": null,
   "id": "2ff22b25-1aba-49ba-b3d2-2819b61129c2",
   "metadata": {},
   "outputs": [],
   "source": []
  },
  {
   "cell_type": "code",
   "execution_count": null,
   "id": "eeda04fb-4ce9-465a-81c2-6afbd116ab69",
   "metadata": {},
   "outputs": [],
   "source": []
  },
  {
   "cell_type": "code",
   "execution_count": null,
   "id": "5b87ffa0-0c0a-4d10-8a52-dabdc4263c6f",
   "metadata": {},
   "outputs": [],
   "source": []
  },
  {
   "cell_type": "code",
   "execution_count": null,
   "id": "0a5b21b2-ad4d-48c6-8c10-f822256507f3",
   "metadata": {},
   "outputs": [],
   "source": []
  },
  {
   "cell_type": "code",
   "execution_count": null,
   "id": "7e7181d0-7e64-423d-b42c-0bbba5b0a289",
   "metadata": {},
   "outputs": [],
   "source": []
  },
  {
   "cell_type": "code",
   "execution_count": null,
   "id": "677e7e15-0e16-4498-8b30-ebefe8b1e862",
   "metadata": {},
   "outputs": [],
   "source": []
  },
  {
   "cell_type": "code",
   "execution_count": null,
   "id": "eb5577ad-2b5f-4126-b975-dfbe4e620120",
   "metadata": {},
   "outputs": [],
   "source": []
  },
  {
   "cell_type": "code",
   "execution_count": null,
   "id": "f2626630-f924-4334-a5ab-deb57e177ebd",
   "metadata": {},
   "outputs": [],
   "source": []
  },
  {
   "cell_type": "code",
   "execution_count": null,
   "id": "e5f104f7-80e1-41d7-80bf-6a45981a0710",
   "metadata": {},
   "outputs": [],
   "source": []
  },
  {
   "cell_type": "code",
   "execution_count": null,
   "id": "4cca3e9d-577b-42b9-8a78-cd56fc7bc589",
   "metadata": {},
   "outputs": [],
   "source": []
  },
  {
   "cell_type": "code",
   "execution_count": null,
   "id": "dea1e66f-3a88-4798-b6d1-78b303c80308",
   "metadata": {},
   "outputs": [],
   "source": []
  }
 ],
 "metadata": {
  "kernelspec": {
   "display_name": "Python 3 (ipykernel)",
   "language": "python",
   "name": "python3"
  },
  "language_info": {
   "codemirror_mode": {
    "name": "ipython",
    "version": 3
   },
   "file_extension": ".py",
   "mimetype": "text/x-python",
   "name": "python",
   "nbconvert_exporter": "python",
   "pygments_lexer": "ipython3",
   "version": "3.11.4"
  }
 },
 "nbformat": 4,
 "nbformat_minor": 5
}
